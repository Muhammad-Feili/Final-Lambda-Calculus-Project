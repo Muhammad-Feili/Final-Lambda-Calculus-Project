{
 "cells": [
  {
   "cell_type": "markdown",
   "metadata": {},
   "source": [
    "# Decoding The Expression"
   ]
  },
  {
   "cell_type": "code",
   "execution_count": 10,
   "metadata": {},
   "outputs": [],
   "source": [
    "def get_number(f)-> int:\n",
    "    INC = lambda x: x+1\n",
    "    return f(INC)(0)"
   ]
  },
  {
   "cell_type": "markdown",
   "metadata": {},
   "source": [
    "# 1)"
   ]
  },
  {
   "cell_type": "code",
   "execution_count": 11,
   "metadata": {},
   "outputs": [],
   "source": [
    "FALSE = lambda a: lambda b: b\n",
    "TRUE  = lambda a: lambda b: a\n",
    "\n",
    "AND   = lambda a: lambda b: a(b)(FALSE)\n",
    "OR    = lambda a: lambda b: a(TRUE)(b)\n",
    "NOT   = lambda a: a(FALSE)(TRUE)\n",
    "\n",
    "XOR   = lambda a: lambda b: a(b(FALSE)(TRUE))(b(TRUE)(FALSE))"
   ]
  },
  {
   "cell_type": "code",
   "execution_count": 12,
   "metadata": {},
   "outputs": [
    {
     "name": "stdout",
     "output_type": "stream",
     "text": [
      "1) I)\n",
      "TRUE\n",
      "1) II)\n",
      "TRUE\n"
     ]
    }
   ],
   "source": [
    "Alpha = TRUE\n",
    "Beta  = TRUE\n",
    "Gama  = FALSE\n",
    "\n",
    "# section I)\n",
    "Ans = OR(OR(AND(Alpha)(Beta))(AND(Alpha)(Gama)))(AND(Beta)(Gama))\n",
    "print(\"1) I)\")\n",
    "if Ans == TRUE:\n",
    "    print(\"TRUE\")\n",
    "else:\n",
    "    print(\"FALSE\")\n",
    "\n",
    "# section II)\n",
    "Ans = XOR(OR(Alpha)(Beta))(AND(NOT(Alpha))(Gama))\n",
    "print(\"1) II)\")\n",
    "if Ans == TRUE:\n",
    "    print(\"TRUE\")\n",
    "else:\n",
    "    print(\"FALSE\")"
   ]
  },
  {
   "cell_type": "markdown",
   "metadata": {},
   "source": [
    "# 2)"
   ]
  },
  {
   "cell_type": "code",
   "execution_count": 13,
   "metadata": {},
   "outputs": [],
   "source": [
    "I   = lambda a: a\n",
    "is_zero    = lambda a: a(lambda _: FALSE)(TRUE)\n",
    "inc = lambda a: lambda b: lambda c: b(a(b)(c))\n",
    "dec = lambda a: lambda b: lambda c: a(lambda x: lambda y: y(x(b)))(lambda _: c)(I)\n",
    "sub = lambda a: lambda b: b(dec)(a)\n",
    "\n",
    "less_than    = lambda a: lambda b: is_zero(sub(inc(a))(b))\n",
    "greater_than = lambda a: lambda b: is_zero(sub(inc(b))(a))"
   ]
  },
  {
   "cell_type": "code",
   "execution_count": 14,
   "metadata": {},
   "outputs": [],
   "source": [
    "zero  = FALSE\n",
    "one   = lambda a: lambda b: a(b)\n",
    "two   = lambda a: lambda b: a(a(b))\n",
    "three = lambda a: lambda b: a(a(a(b)))\n",
    "four  = lambda a: lambda b: a(a(a(a(b))))\n",
    "five  = lambda a: lambda b: a(a(a(a(a(b)))))\n",
    "six   = lambda a: lambda b: a(a(a(a(a(a(b))))))\n",
    "seven = lambda a: lambda b: a(a(a(a(a(a(a(b)))))))\n",
    "eight = lambda a: lambda b: a(a(a(a(a(a(a(a(b))))))))\n",
    "nine  = lambda a: lambda b: a(a(a(a(a(a(a(a(a(b)))))))))\n",
    "ten   = lambda a: lambda b: a(a(a(a(a(a(a(a(a(a(b))))))))))"
   ]
  },
  {
   "cell_type": "code",
   "execution_count": 15,
   "metadata": {},
   "outputs": [
    {
     "name": "stdout",
     "output_type": "stream",
     "text": [
      "FALSE\n",
      "TRUE\n"
     ]
    }
   ],
   "source": [
    "# Example I)\n",
    "Ans = greater_than(two)(three)\n",
    "if Ans == TRUE:\n",
    "    print(\"TRUE\")\n",
    "else:\n",
    "    print(\"FALSE\")\n",
    "    \n",
    "# Example II)\n",
    "Ans = less_than(six)(seven)\n",
    "if Ans == TRUE:\n",
    "    print(\"TRUE\")\n",
    "else:\n",
    "    print(\"FALSE\")"
   ]
  },
  {
   "cell_type": "markdown",
   "metadata": {},
   "source": [
    "# 3)"
   ]
  },
  {
   "cell_type": "code",
   "execution_count": 16,
   "metadata": {},
   "outputs": [],
   "source": [
    "# pair\n",
    "cons = lambda a: lambda b: lambda c: c(a)(b)\n",
    "car  = lambda a: a(TRUE)\n",
    "cdr  = lambda a: a(FALSE)\n",
    "\n",
    "XNOR = lambda a: lambda b: NOT(XOR(a)(b))\n",
    "\n",
    "add = lambda a: lambda b: a(inc)(b)\n",
    "diff = lambda a: lambda b: add(sub(a)(b))(sub(b)(a))\n",
    "less_than_or_equal = lambda a: lambda b: is_zero(sub(a)(b))\n",
    "\n",
    "sadd   = lambda a: lambda b: (\n",
    "    XNOR(car(a))(car(b))\n",
    "    (cons(car(a))(add(cdr(a))(cdr(b))))  # same sign\n",
    "    (\n",
    "        cons    # opposite sign\n",
    "        (XOR(car(a))(less_than_or_equal(cdr(a))(cdr(b))))  # calculate sign\n",
    "        (diff(cdr(a))(cdr(b)))   # calculate value\n",
    "    )\n",
    ")\n",
    "ssub = lambda a: lambda b: sadd(a)(cons(NOT(car(b)))(cdr(b)))"
   ]
  },
  {
   "cell_type": "code",
   "execution_count": 17,
   "metadata": {},
   "outputs": [
    {
     "name": "stdout",
     "output_type": "stream",
     "text": [
      "5\n"
     ]
    }
   ],
   "source": [
    "NUM1 = cons(TRUE)(ten) \n",
    "NUM2 = cons(TRUE)(five) \n",
    "\n",
    "signed_ans = ssub(NUM1)(NUM2)\n",
    "\n",
    "sign = car(signed_ans)\n",
    "value = cdr(signed_ans)\n",
    "\n",
    "number = get_number(value)\n",
    "if sign == TRUE:\n",
    "    print(number)\n",
    "elif sign == FALSE:\n",
    "    print(-1*number)\n",
    "else:\n",
    "    print(\"Error!\")"
   ]
  },
  {
   "cell_type": "code",
   "execution_count": 18,
   "metadata": {},
   "outputs": [
    {
     "name": "stdout",
     "output_type": "stream",
     "text": [
      "9\n"
     ]
    }
   ],
   "source": [
    "NUM1 = cons(TRUE)(four) \n",
    "NUM2 = cons(TRUE)(five) \n",
    "\n",
    "signed_ans = sadd(NUM1)(NUM2)\n",
    "\n",
    "sign = car(signed_ans)\n",
    "value = cdr(signed_ans)\n",
    "\n",
    "number = get_number(value)\n",
    "if sign == TRUE:\n",
    "    print(number)\n",
    "elif sign == FALSE:\n",
    "    print(-1*number)\n",
    "else:\n",
    "    print(\"Error!\")"
   ]
  },
  {
   "cell_type": "markdown",
   "metadata": {},
   "source": [
    "# 4)"
   ]
  },
  {
   "cell_type": "code",
   "execution_count": 19,
   "metadata": {},
   "outputs": [],
   "source": [
    "# True logic\n",
    "T  = lambda a: lambda b: a\n",
    "# False logic\n",
    "F = lambda a: lambda b: b\n",
    "\n",
    "# Identity function\n",
    "I = lambda a: a\n",
    "\n",
    "# this boolean AND operator takes two boolean variables and if the first one were TRUE returns the second one else if returns FALSE \n",
    "AND = lambda a: lambda b: a(b)(F)\n",
    "\n",
    "# this boolean OR operator takes two boolean variables and if the first one were TRUE returns the first one(or TRUE) else if returns the second one\n",
    "OR  = lambda a: lambda b: a(T)(b)\n",
    "\n",
    "# this boolean NOT operator takes one boolean variable and returns TRUE if the variable were FALSE and vice versa\n",
    "NOT = lambda a: a(F)(T)\n",
    "\n",
    "# this lambda expression is recursion idea that takes a function f and returns the same as to entry\n",
    "# I mean fixed point of a function is an input that is unchanged by that function\n",
    "# some example to clarity :\n",
    "#    \n",
    "#     Y g = g Y g = g(g(Yg)) = g(  ...  g(Yg)   ...)\n",
    "#\n",
    "\n",
    "Y = lambda f: ( (lambda x: f(lambda y: x(x)(y)) ) ( lambda x: f(lambda y: x(x)(y)) ) )\n",
    "# is zero operator takes a variable( or name ) and returns the entry \n",
    "# that the entry had been zero the second one selected else returns a constant \n",
    "# function that takes every thing and returns False(lambda _: F)\n",
    "is_zero    = lambda a: a(lambda _: F)(T)\n",
    "\n",
    "# notes: Less than:\n",
    "#    LT := λab. NOT (LEQ b a)\n",
    "#    Less than or equal to:\n",
    "#    LEQ := λmn. ISZERO (SUB m n)\n",
    "less_than = lambda a: lambda b: is_zero(sub(inc(a))(b))\n",
    "# The successor operator (given a natural number n, calculate n+1):\n",
    "#\n",
    "#    SUCC := λnfx. f (n f x)\n",
    "#\n",
    "# the b and c are the aoxial variables that acts the zero rule in brackets\n",
    "\n",
    "inc = lambda a: lambda b: lambda c: b(a(b)(c))\n",
    "add = lambda a: lambda b: a(inc)(b)\n",
    "\n",
    "# The predecessor operator (for all n > 0, calculate n-1; for zero, return zero):\n",
    "#    \n",
    "#    PRED\t:=\tλnfx. n (λgh. h (g f)) (λu. x) (λu. u)\n",
    "\n",
    "dec = lambda a: lambda b: lambda c: a(lambda x: lambda y: y(x(b)))(lambda _: c)(I)\n",
    "sub = lambda a: lambda b: b(dec)(a)\n",
    "\n",
    "mul = lambda a: lambda b: lambda c: a(b(c))\n",
    "div = Y(\n",
    "        lambda f: lambda a: lambda b: less_than(a)(b)\n",
    "        (lambda _: zero)\n",
    "        (lambda _: inc(f(sub(a)(b))(b)))\n",
    "        (zero)\n",
    "        )\n",
    "\n",
    "def get_number(f)-> int:\n",
    "    INCR = lambda x: x+1\n",
    "    return f(INCR)(0)"
   ]
  },
  {
   "cell_type": "code",
   "execution_count": 32,
   "metadata": {},
   "outputs": [
    {
     "data": {
      "text/plain": [
       "2"
      ]
     },
     "execution_count": 32,
     "metadata": {},
     "output_type": "execute_result"
    }
   ],
   "source": [
    "get_number(div(ten)(four))"
   ]
  },
  {
   "cell_type": "markdown",
   "metadata": {},
   "source": [
    "# 5)"
   ]
  },
  {
   "cell_type": "code",
   "execution_count": 21,
   "metadata": {},
   "outputs": [],
   "source": [
    "mul = lambda a: lambda b: lambda c: a(b(c))\n",
    "\n",
    "fac = Y(\n",
    "    lambda f: lambda n: is_zero(n)\n",
    "    (lambda _: one)\n",
    "    (lambda _: mul(n)(f(dec(n))))\n",
    "    (zero)\n",
    ")"
   ]
  },
  {
   "cell_type": "code",
   "execution_count": 22,
   "metadata": {},
   "outputs": [
    {
     "data": {
      "text/plain": [
       "720"
      ]
     },
     "execution_count": 22,
     "metadata": {},
     "output_type": "execute_result"
    }
   ],
   "source": [
    "get_number(fac(six))"
   ]
  },
  {
   "cell_type": "markdown",
   "metadata": {},
   "source": [
    "# 6)"
   ]
  },
  {
   "cell_type": "code",
   "execution_count": 23,
   "metadata": {},
   "outputs": [],
   "source": [
    "# the first number is enumerator and the second one is denumerator\n",
    "rational_number = lambda a: lambda b: cons(a)(b)\n",
    "\n",
    "rational_add = lambda a: lambda b: cons(add(mul(car(a))(cdr(b)))(mul(cdr(a))(car(b))))(mul(cdr(a))(cdr(b)))\n",
    "rational_mul = lambda a: lambda b: cons(mul(car(a))(car(b)))(mul(cdr(a))(cdr(b)))"
   ]
  },
  {
   "cell_type": "code",
   "execution_count": 24,
   "metadata": {},
   "outputs": [
    {
     "name": "stdout",
     "output_type": "stream",
     "text": [
      "4.0\n"
     ]
    }
   ],
   "source": [
    "A = rational_number(three)(two)\n",
    "B = rational_number(five)(two)\n",
    "\n",
    "Ans = rational_add(A)(B)\n",
    "enum  = car(Ans)\n",
    "denum = cdr(Ans)\n",
    "print(get_number(enum)/get_number(denum))"
   ]
  },
  {
   "cell_type": "markdown",
   "metadata": {},
   "source": [
    "# 7)"
   ]
  },
  {
   "cell_type": "code",
   "execution_count": 25,
   "metadata": {},
   "outputs": [],
   "source": [
    "complex_num = lambda a: lambda b: cons(a)(b)\n",
    "\n",
    "# sign multiplication\n",
    "smul = lambda a: lambda b: cons(XOR(car(a))(car(b)))(mul(cdr(a))(cdr(b)))\n",
    "\n",
    "# complex addition\n",
    "complex_add = lambda a: lambda b: cons(sadd(car(a))(car(b)))(sadd(cdr(a))(cdr(b)))\n",
    "# complex division\n",
    "complex_div = lambda a: lambda b: cons(\n",
    "    rational_number(sadd(smul(car(a))(car(b)))(smul(cdr(a))(cdr(b))))(sadd(smul(car(b))(car(b))) (smul(cdr(b))(cdr(b)))))(\n",
    "    rational_number(ssub(smul(cdr(a))(car(b)))(smul(car(a))(cdr(b))))(sadd(smul(car(b))(car(b))) (smul(cdr(b))(cdr(b))))\n",
    "    )"
   ]
  },
  {
   "cell_type": "code",
   "execution_count": 26,
   "metadata": {},
   "outputs": [
    {
     "name": "stdout",
     "output_type": "stream",
     "text": [
      "(3+3j)\n"
     ]
    }
   ],
   "source": [
    "num1 = cons(TRUE)(one)\n",
    "num2 = cons(TRUE)(one)\n",
    "num3 = cons(TRUE)(two)\n",
    "num4 = cons(TRUE)(two)\n",
    "\n",
    "NUM1 = complex_num(num1)(num2)\n",
    "NUM2 = complex_num(num3)(num4)\n",
    "\n",
    "Ans = complex_add(NUM1)(NUM2)\n",
    "num_x = car(Ans)\n",
    "num_y = cdr(Ans)\n",
    "\n",
    "ans = complex(get_number(cdr(num_x)),(get_number(cdr(num_y))))\n",
    "print(ans)"
   ]
  },
  {
   "cell_type": "code",
   "execution_count": 27,
   "metadata": {},
   "outputs": [
    {
     "name": "stdout",
     "output_type": "stream",
     "text": [
      "(-0.4-0.2j)\n"
     ]
    }
   ],
   "source": [
    "num1 = cons(TRUE)(one)\n",
    "num2 = cons(TRUE)(one)\n",
    "num3 = cons(TRUE)(three)\n",
    "num4 = cons(TRUE)(one)\n",
    "\n",
    "NUM1 = complex_num(num1)(num2)\n",
    "NUM2 = complex_num(num3)(num4)\n",
    "\n",
    "Ans = complex_div(NUM1)(NUM2)\n",
    "num_x = car(Ans)\n",
    "num_y = cdr(Ans)\n",
    "\n",
    "r_num_x_enum = car(num_x)\n",
    "r_num_x_denum = cdr(num_x)\n",
    "\n",
    "r_num_y_enum = car(num_y)\n",
    "r_num_y_denum = cdr(num_y)\n",
    "\n",
    "# A + Bj\n",
    "A = get_number(cdr(r_num_x_enum))/get_number(cdr(r_num_x_denum))\n",
    "if car(r_num_x_enum) == TRUE:\n",
    "    A = +1*A\n",
    "elif car(r_num_x_enum) == FALSE:\n",
    "    A = -1*A\n",
    "\n",
    "B = get_number(cdr(r_num_y_enum))/get_number(cdr(r_num_y_denum))\n",
    "if car(r_num_y_enum) == TRUE:\n",
    "    B = +1*B\n",
    "elif car(r_num_y_enum) == FALSE:\n",
    "    B = -1*B\n",
    "    \n",
    "ans = complex(A,B)\n",
    "print(ans)"
   ]
  },
  {
   "cell_type": "markdown",
   "metadata": {},
   "source": [
    "# 8)"
   ]
  },
  {
   "cell_type": "code",
   "execution_count": 28,
   "metadata": {},
   "outputs": [],
   "source": [
    "# in the proceeding cells this question be answered"
   ]
  },
  {
   "cell_type": "markdown",
   "metadata": {},
   "source": [
    "# 9)"
   ]
  },
  {
   "cell_type": "code",
   "execution_count": 29,
   "metadata": {},
   "outputs": [
    {
     "data": {
      "text/plain": [
       "0"
      ]
     },
     "execution_count": 29,
     "metadata": {},
     "output_type": "execute_result"
    }
   ],
   "source": [
    "A = lambda x: lambda y: y\n",
    "B = lambda x: lambda y: lambda z: (x)(z)((y)(z))\n",
    "ID = lambda x: x\n",
    "zero = A\n",
    "SUCC = lambda a: B(B)((A)(B))(A)\n",
    "get_number(SUCC(zero))"
   ]
  },
  {
   "cell_type": "markdown",
   "metadata": {},
   "source": [
    "# 10)"
   ]
  },
  {
   "cell_type": "code",
   "execution_count": 30,
   "metadata": {},
   "outputs": [],
   "source": [
    "quine = lambda z: ((lambda x: lambda z: (x)(x)) (lambda x: lambda z: (x)(x)))"
   ]
  },
  {
   "cell_type": "code",
   "execution_count": null,
   "metadata": {},
   "outputs": [],
   "source": []
  },
  {
   "cell_type": "code",
   "execution_count": 31,
   "metadata": {},
   "outputs": [
    {
     "data": {
      "text/plain": [
       "0"
      ]
     },
     "execution_count": 31,
     "metadata": {},
     "output_type": "execute_result"
    }
   ],
   "source": [
    "get_number(sub(one)(two))"
   ]
  },
  {
   "cell_type": "code",
   "execution_count": null,
   "metadata": {},
   "outputs": [],
   "source": []
  }
 ],
 "metadata": {
  "kernelspec": {
   "display_name": "Python 3",
   "language": "python",
   "name": "python3"
  },
  "language_info": {
   "codemirror_mode": {
    "name": "ipython",
    "version": 3
   },
   "file_extension": ".py",
   "mimetype": "text/x-python",
   "name": "python",
   "nbconvert_exporter": "python",
   "pygments_lexer": "ipython3",
   "version": "3.6.5"
  }
 },
 "nbformat": 4,
 "nbformat_minor": 4
}
